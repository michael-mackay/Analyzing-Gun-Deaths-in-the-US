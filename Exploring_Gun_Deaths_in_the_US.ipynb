{
 "cells": [
  {
   "cell_type": "code",
   "execution_count": 1,
   "metadata": {
    "collapsed": false
   },
   "outputs": [
    {
     "name": "stdout",
     "output_type": "stream",
     "text": [
      "[['', 'year', 'month', 'intent', 'police', 'sex', 'age', 'race', 'hispanic', 'place', 'education'], ['1', '2012', '01', 'Suicide', '0', 'M', '34', 'Asian/Pacific Islander', '100', 'Home', '4'], ['2', '2012', '01', 'Suicide', '0', 'F', '21', 'White', '100', 'Street', '3'], ['3', '2012', '01', 'Suicide', '0', 'M', '60', 'White', '100', 'Other specified', '4'], ['4', '2012', '02', 'Suicide', '0', 'M', '64', 'White', '100', 'Home', '4']]\n"
     ]
    }
   ],
   "source": [
    "import csv\n",
    "\n",
    "f = open(\"guns.csv\",'r')\n",
    "data = list(csv.reader(f))\n",
    "\n",
    "print(data[0:5])"
   ]
  },
  {
   "cell_type": "code",
   "execution_count": 2,
   "metadata": {
    "collapsed": false
   },
   "outputs": [
    {
     "name": "stdout",
     "output_type": "stream",
     "text": [
      "['', 'year', 'month', 'intent', 'police', 'sex', 'age', 'race', 'hispanic', 'place', 'education']\n",
      "[['1', '2012', '01', 'Suicide', '0', 'M', '34', 'Asian/Pacific Islander', '100', 'Home', '4'], ['2', '2012', '01', 'Suicide', '0', 'F', '21', 'White', '100', 'Street', '3'], ['3', '2012', '01', 'Suicide', '0', 'M', '60', 'White', '100', 'Other specified', '4'], ['4', '2012', '02', 'Suicide', '0', 'M', '64', 'White', '100', 'Home', '4'], ['5', '2012', '02', 'Suicide', '0', 'M', '31', 'White', '100', 'Other specified', '2']]\n"
     ]
    }
   ],
   "source": [
    "headers = data[0]\n",
    "data = data[1:len(data)]\n",
    "\n",
    "print(headers)\n",
    "print(data[0:5])"
   ]
  },
  {
   "cell_type": "code",
   "execution_count": 3,
   "metadata": {
    "collapsed": false
   },
   "outputs": [
    {
     "name": "stdout",
     "output_type": "stream",
     "text": [
      "{'2014': 33599, '2013': 33636, '2012': 33563}\n"
     ]
    }
   ],
   "source": [
    "years = [row[1] for row in data]\n",
    "\n",
    "year_counts = {}\n",
    "for year in years:\n",
    "    if year in year_counts:\n",
    "        year_counts[year] += 1\n",
    "    else:\n",
    "        year_counts[year] = 1\n",
    "\n",
    "print(year_counts)"
   ]
  },
  {
   "cell_type": "code",
   "execution_count": 5,
   "metadata": {
    "collapsed": false
   },
   "outputs": [
    {
     "name": "stdout",
     "output_type": "stream",
     "text": [
      "[datetime.datetime(2012, 1, 1, 0, 0), datetime.datetime(2012, 1, 1, 0, 0), datetime.datetime(2012, 1, 1, 0, 0), datetime.datetime(2012, 2, 1, 0, 0), datetime.datetime(2012, 2, 1, 0, 0)]\n"
     ]
    }
   ],
   "source": [
    "import datetime\n",
    "\n",
    "dates = [datetime.datetime(year=int(row[1]),month=int(row[2]),day=1) for row in data]\n",
    "\n",
    "print(dates[0:5])"
   ]
  },
  {
   "cell_type": "code",
   "execution_count": 6,
   "metadata": {
    "collapsed": false
   },
   "outputs": [
    {
     "name": "stdout",
     "output_type": "stream",
     "text": [
      "{datetime.datetime(2013, 7, 1, 0, 0): 3079, datetime.datetime(2014, 11, 1, 0, 0): 2756, datetime.datetime(2014, 1, 1, 0, 0): 2651, datetime.datetime(2014, 10, 1, 0, 0): 2865, datetime.datetime(2014, 2, 1, 0, 0): 2361, datetime.datetime(2013, 3, 1, 0, 0): 2862, datetime.datetime(2014, 7, 1, 0, 0): 2884, datetime.datetime(2012, 4, 1, 0, 0): 2795, datetime.datetime(2013, 10, 1, 0, 0): 2808, datetime.datetime(2014, 4, 1, 0, 0): 2862, datetime.datetime(2013, 8, 1, 0, 0): 2859, datetime.datetime(2013, 11, 1, 0, 0): 2758, datetime.datetime(2013, 9, 1, 0, 0): 2742, datetime.datetime(2013, 2, 1, 0, 0): 2375, datetime.datetime(2012, 3, 1, 0, 0): 2743, datetime.datetime(2012, 1, 1, 0, 0): 2758, datetime.datetime(2013, 6, 1, 0, 0): 2920, datetime.datetime(2014, 12, 1, 0, 0): 2857, datetime.datetime(2014, 6, 1, 0, 0): 2931, datetime.datetime(2013, 5, 1, 0, 0): 2806, datetime.datetime(2012, 2, 1, 0, 0): 2357, datetime.datetime(2012, 11, 1, 0, 0): 2729, datetime.datetime(2012, 8, 1, 0, 0): 2954, datetime.datetime(2012, 6, 1, 0, 0): 2826, datetime.datetime(2014, 3, 1, 0, 0): 2684, datetime.datetime(2014, 5, 1, 0, 0): 2864, datetime.datetime(2014, 8, 1, 0, 0): 2970, datetime.datetime(2012, 5, 1, 0, 0): 2999, datetime.datetime(2013, 12, 1, 0, 0): 2765, datetime.datetime(2012, 9, 1, 0, 0): 2852, datetime.datetime(2012, 10, 1, 0, 0): 2733, datetime.datetime(2013, 4, 1, 0, 0): 2798, datetime.datetime(2013, 1, 1, 0, 0): 2864, datetime.datetime(2014, 9, 1, 0, 0): 2914, datetime.datetime(2012, 12, 1, 0, 0): 2791, datetime.datetime(2012, 7, 1, 0, 0): 3026}\n"
     ]
    }
   ],
   "source": [
    "date_counts = {}\n",
    "\n",
    "for date in dates:\n",
    "    if date in date_counts:\n",
    "        date_counts[date] += 1\n",
    "    else:\n",
    "        date_counts[date] = 1\n",
    "        \n",
    "print(date_counts)"
   ]
  },
  {
   "cell_type": "code",
   "execution_count": 8,
   "metadata": {
    "collapsed": false
   },
   "outputs": [
    {
     "name": "stdout",
     "output_type": "stream",
     "text": [
      "{'M': 86349, 'F': 14449}\n"
     ]
    }
   ],
   "source": [
    "sex_counts = {}\n",
    "sexes = [row[5] for row in data]\n",
    "\n",
    "for sex in sexes:\n",
    "    if sex in sex_counts:\n",
    "        sex_counts[sex] += 1\n",
    "    else:\n",
    "        sex_counts[sex] = 1\n",
    "        \n",
    "print(sex_counts)"
   ]
  },
  {
   "cell_type": "code",
   "execution_count": 9,
   "metadata": {
    "collapsed": false
   },
   "outputs": [
    {
     "name": "stdout",
     "output_type": "stream",
     "text": [
      "{'Black': 23296, 'Hispanic': 9022, 'Native American/Native Alaskan': 917, 'Asian/Pacific Islander': 1326, 'White': 66237}\n"
     ]
    }
   ],
   "source": [
    "race_counts = {}\n",
    "races = [row[7] for row in data]\n",
    "\n",
    "for race in races:\n",
    "    if race in race_counts:\n",
    "        race_counts[race] += 1\n",
    "    else:\n",
    "        race_counts[race] = 1\n",
    "        \n",
    "print(race_counts)"
   ]
  },
  {
   "cell_type": "markdown",
   "metadata": {},
   "source": [
    "# Summary of findings so far\n",
    "\n",
    "There is not any kind of noticable change in number of deaths across years, as the death figures for each year are very similar. It seems that gun deaths are recorded as being a bit more frequent in the summer months, but no clear trend is at this point visible in the monthly data. \n",
    "\n",
    "Based on this dataset, a male victim is much more likely than a female victim, with male victims outnumbering the female victims by over a factor of 5. No meaningful conclusions can be said about the ratial data without more context in the form of total population percentages of each of the races which are represented."
   ]
  },
  {
   "cell_type": "code",
   "execution_count": 11,
   "metadata": {
    "collapsed": false
   },
   "outputs": [
    {
     "name": "stdout",
     "output_type": "stream",
     "text": [
      "[['Id', 'Year', 'Id', 'Sex', 'Id', 'Hispanic Origin', 'Id', 'Id2', 'Geography', 'Total', 'Race Alone - White', 'Race Alone - Hispanic', 'Race Alone - Black or African American', 'Race Alone - American Indian and Alaska Native', 'Race Alone - Asian', 'Race Alone - Native Hawaiian and Other Pacific Islander', 'Two or More Races'], ['cen42010', 'April 1, 2010 Census', 'totsex', 'Both Sexes', 'tothisp', 'Total', '0100000US', '', 'United States', '308745538', '197318956', '44618105', '40250635', '3739506', '15159516', '674625', '6984195']]\n"
     ]
    }
   ],
   "source": [
    "f = open(\"census.csv\",'r')\n",
    "census = list(csv.reader(f))\n",
    "\n",
    "print(census)"
   ]
  },
  {
   "cell_type": "code",
   "execution_count": 17,
   "metadata": {
    "collapsed": false
   },
   "outputs": [
    {
     "name": "stdout",
     "output_type": "stream",
     "text": [
      "{'White': 33.56849303419181, 'Hispanic': 20.220491210910907, 'Black': 57.8773477735196, 'Asian/Pacific Islander': 8.374309664161762, 'Native American/Native Alaskan': 24.521955573811088}\n"
     ]
    }
   ],
   "source": [
    "mapping = {\"White\":int(census[1][10]),\n",
    "           \"Hispanic\":int(census[1][11]),\n",
    "           \"Black\":int(census[1][12]),\n",
    "           \"Native American/Native Alaskan\":int(census[1][13]),\n",
    "           \"Asian/Pacific Islander\":int(census[1][14])+int(census[1][15])}\n",
    "\n",
    "race_per_hundredk = {}\n",
    "for key in race_counts:\n",
    "    race_per_hundredk[key] = 100000*(race_counts[key]/mapping[key])\n",
    "    \n",
    "print(race_per_hundredk)"
   ]
  },
  {
   "cell_type": "code",
   "execution_count": 19,
   "metadata": {
    "collapsed": false
   },
   "outputs": [
    {
     "name": "stdout",
     "output_type": "stream",
     "text": [
      "{'Hispanic': 12.627161104219914, 'Black': 48.471284987180944, 'Native American/Native Alaskan': 8.717729026240365, 'Asian/Pacific Islander': 3.530346230970155, 'White': 4.6356417981453335}\n"
     ]
    }
   ],
   "source": [
    "intents = [row[3] for row in data]\n",
    "\n",
    "homicide_race_per_hundredk = {}\n",
    "for i,race in enumerate(races):\n",
    "    if intents[i] == \"Homicide\":\n",
    "        if race in homicide_race_per_hundredk:\n",
    "            homicide_race_per_hundredk[race] += 1\n",
    "        else:\n",
    "            homicide_race_per_hundredk[race] = 1\n",
    "\n",
    "for key in homicide_race_per_hundredk:\n",
    "    homicide_race_per_hundredk[key] = 100000*(homicide_race_per_hundredk[key]/mapping[key])\n",
    "    \n",
    "print(homicide_race_per_hundredk)"
   ]
  },
  {
   "cell_type": "code",
   "execution_count": null,
   "metadata": {
    "collapsed": true
   },
   "outputs": [],
   "source": []
  }
 ],
 "metadata": {
  "kernelspec": {
   "display_name": "Python 3",
   "language": "python",
   "name": "python3"
  },
  "language_info": {
   "codemirror_mode": {
    "name": "ipython",
    "version": 3
   },
   "file_extension": ".py",
   "mimetype": "text/x-python",
   "name": "python",
   "nbconvert_exporter": "python",
   "pygments_lexer": "ipython3",
   "version": "3.4.3"
  }
 },
 "nbformat": 4,
 "nbformat_minor": 0
}
